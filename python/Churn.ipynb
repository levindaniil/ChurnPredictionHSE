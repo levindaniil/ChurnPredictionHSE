{
  "nbformat": 4,
  "nbformat_minor": 0,
  "metadata": {
    "colab": {
      "name": "Churn.ipynb",
      "provenance": []
    },
    "kernelspec": {
      "name": "python3",
      "display_name": "Python 3"
    },
    "language_info": {
      "name": "python"
    }
  },
  "cells": [
    {
      "cell_type": "code",
      "metadata": {
        "id": "u6GBo0KEnniv"
      },
      "source": [
        "import pandas as pd\n",
        "import numpy as np\n",
        "from sklearn.linear_model import LogisticRegression\n",
        "from sklearn.model_selection import train_test_split"
      ],
      "execution_count": 1,
      "outputs": []
    },
    {
      "cell_type": "code",
      "metadata": {
        "id": "HBxvkzB1n2UR"
      },
      "source": [
        "data = pd.read_csv('contacts_fixed.csv', sep=';', header=0)"
      ],
      "execution_count": 2,
      "outputs": []
    },
    {
      "cell_type": "code",
      "metadata": {
        "colab": {
          "base_uri": "https://localhost:8080/",
          "height": 617
        },
        "id": "1z6kJLPWn8g2",
        "outputId": "dc47ffb8-6a21-4f21-d53b-209b6cf5e827"
      },
      "source": [
        "data"
      ],
      "execution_count": 4,
      "outputs": [
        {
          "output_type": "execute_result",
          "data": {
            "text/html": [
              "<div>\n",
              "<style scoped>\n",
              "    .dataframe tbody tr th:only-of-type {\n",
              "        vertical-align: middle;\n",
              "    }\n",
              "\n",
              "    .dataframe tbody tr th {\n",
              "        vertical-align: top;\n",
              "    }\n",
              "\n",
              "    .dataframe thead th {\n",
              "        text-align: right;\n",
              "    }\n",
              "</style>\n",
              "<table border=\"1\" class=\"dataframe\">\n",
              "  <thead>\n",
              "    <tr style=\"text-align: right;\">\n",
              "      <th></th>\n",
              "      <th>ContactId</th>\n",
              "      <th>GenderCode</th>\n",
              "      <th>DoNotEMail</th>\n",
              "      <th>registration_date</th>\n",
              "      <th>sendsms</th>\n",
              "      <th>source</th>\n",
              "      <th>allownotification</th>\n",
              "      <th>balance</th>\n",
              "      <th>credit</th>\n",
              "      <th>debet</th>\n",
              "      <th>discount_summ</th>\n",
              "      <th>quantity</th>\n",
              "      <th>summ</th>\n",
              "      <th>average_cheque</th>\n",
              "      <th>last_transaction_date</th>\n",
              "      <th>churn_bool</th>\n",
              "      <th>has_last_week_transaction</th>\n",
              "      <th>has_last_month_transaction</th>\n",
              "      <th>has_last_halfyear_transaction</th>\n",
              "      <th>churn_prob</th>\n",
              "    </tr>\n",
              "  </thead>\n",
              "  <tbody>\n",
              "    <tr>\n",
              "      <th>0</th>\n",
              "      <td>1</td>\n",
              "      <td>NaN</td>\n",
              "      <td>0</td>\n",
              "      <td>NaN</td>\n",
              "      <td>1</td>\n",
              "      <td>4</td>\n",
              "      <td>0</td>\n",
              "      <td>0</td>\n",
              "      <td>94 002,31</td>\n",
              "      <td>94 002,31</td>\n",
              "      <td>0</td>\n",
              "      <td>3</td>\n",
              "      <td>58 444,33</td>\n",
              "      <td>19 481,44</td>\n",
              "      <td>15.06.2020 11:43</td>\n",
              "      <td>0</td>\n",
              "      <td>0</td>\n",
              "      <td>0</td>\n",
              "      <td>0</td>\n",
              "      <td>0</td>\n",
              "    </tr>\n",
              "    <tr>\n",
              "      <th>1</th>\n",
              "      <td>2</td>\n",
              "      <td>1.0</td>\n",
              "      <td>0</td>\n",
              "      <td>2019-10-14 00:00:00.000</td>\n",
              "      <td>1</td>\n",
              "      <td>4</td>\n",
              "      <td>1</td>\n",
              "      <td>52 878,84</td>\n",
              "      <td>204 580,25</td>\n",
              "      <td>257 459,09</td>\n",
              "      <td>0</td>\n",
              "      <td>106</td>\n",
              "      <td>382 508,26</td>\n",
              "      <td>3 608,57</td>\n",
              "      <td>11.06.2021 9:56</td>\n",
              "      <td>0</td>\n",
              "      <td>1</td>\n",
              "      <td>1</td>\n",
              "      <td>1</td>\n",
              "      <td>0</td>\n",
              "    </tr>\n",
              "    <tr>\n",
              "      <th>2</th>\n",
              "      <td>4</td>\n",
              "      <td>NaN</td>\n",
              "      <td>1</td>\n",
              "      <td>11.11.2019 19:52</td>\n",
              "      <td>1</td>\n",
              "      <td>2</td>\n",
              "      <td>1</td>\n",
              "      <td>1 461,19</td>\n",
              "      <td>485 648,00</td>\n",
              "      <td>487 109,19</td>\n",
              "      <td>0</td>\n",
              "      <td>176</td>\n",
              "      <td>224 307,11</td>\n",
              "      <td>1 274,47</td>\n",
              "      <td>09.06.2021 18:45</td>\n",
              "      <td>0</td>\n",
              "      <td>1</td>\n",
              "      <td>1</td>\n",
              "      <td>1</td>\n",
              "      <td>0</td>\n",
              "    </tr>\n",
              "    <tr>\n",
              "      <th>3</th>\n",
              "      <td>5</td>\n",
              "      <td>NaN</td>\n",
              "      <td>1</td>\n",
              "      <td>2019-11-11 20:06:40.000</td>\n",
              "      <td>1</td>\n",
              "      <td>2</td>\n",
              "      <td>1</td>\n",
              "      <td>2 901,98</td>\n",
              "      <td>8 016,86</td>\n",
              "      <td>10 918,84</td>\n",
              "      <td>0</td>\n",
              "      <td>10</td>\n",
              "      <td>10 966,77</td>\n",
              "      <td>1 096,68</td>\n",
              "      <td>29.04.2021 18:29</td>\n",
              "      <td>0</td>\n",
              "      <td>0</td>\n",
              "      <td>0</td>\n",
              "      <td>1</td>\n",
              "      <td>0</td>\n",
              "    </tr>\n",
              "    <tr>\n",
              "      <th>4</th>\n",
              "      <td>6</td>\n",
              "      <td>NaN</td>\n",
              "      <td>1</td>\n",
              "      <td>11.11.2019 21:04</td>\n",
              "      <td>1</td>\n",
              "      <td>2</td>\n",
              "      <td>1</td>\n",
              "      <td>2 890,10</td>\n",
              "      <td>146 488,00</td>\n",
              "      <td>149 378,10</td>\n",
              "      <td>0</td>\n",
              "      <td>56</td>\n",
              "      <td>70 281,37</td>\n",
              "      <td>1 255,02</td>\n",
              "      <td>04.06.2021 13:46</td>\n",
              "      <td>0</td>\n",
              "      <td>1</td>\n",
              "      <td>1</td>\n",
              "      <td>1</td>\n",
              "      <td>0</td>\n",
              "    </tr>\n",
              "    <tr>\n",
              "      <th>...</th>\n",
              "      <td>...</td>\n",
              "      <td>...</td>\n",
              "      <td>...</td>\n",
              "      <td>...</td>\n",
              "      <td>...</td>\n",
              "      <td>...</td>\n",
              "      <td>...</td>\n",
              "      <td>...</td>\n",
              "      <td>...</td>\n",
              "      <td>...</td>\n",
              "      <td>...</td>\n",
              "      <td>...</td>\n",
              "      <td>...</td>\n",
              "      <td>...</td>\n",
              "      <td>...</td>\n",
              "      <td>...</td>\n",
              "      <td>...</td>\n",
              "      <td>...</td>\n",
              "      <td>...</td>\n",
              "      <td>...</td>\n",
              "    </tr>\n",
              "    <tr>\n",
              "      <th>9979</th>\n",
              "      <td>9992</td>\n",
              "      <td>NaN</td>\n",
              "      <td>1</td>\n",
              "      <td>2020-12-10 22:03:58.087</td>\n",
              "      <td>1</td>\n",
              "      <td>9</td>\n",
              "      <td>1</td>\n",
              "      <td>0</td>\n",
              "      <td>12 977,18</td>\n",
              "      <td>12 977,18</td>\n",
              "      <td>0</td>\n",
              "      <td>1</td>\n",
              "      <td>7 977,18</td>\n",
              "      <td>7 977,18</td>\n",
              "      <td>25.01.2020 19:09</td>\n",
              "      <td>1</td>\n",
              "      <td>0</td>\n",
              "      <td>0</td>\n",
              "      <td>0</td>\n",
              "      <td>100</td>\n",
              "    </tr>\n",
              "    <tr>\n",
              "      <th>9980</th>\n",
              "      <td>9993</td>\n",
              "      <td>2.0</td>\n",
              "      <td>1</td>\n",
              "      <td>16.05.2020 17:33</td>\n",
              "      <td>1</td>\n",
              "      <td>2</td>\n",
              "      <td>1</td>\n",
              "      <td>0</td>\n",
              "      <td>2 468,23</td>\n",
              "      <td>2 468,23</td>\n",
              "      <td>0</td>\n",
              "      <td>1</td>\n",
              "      <td>2 468,23</td>\n",
              "      <td>2 468,23</td>\n",
              "      <td>20.11.2019 21:40</td>\n",
              "      <td>1</td>\n",
              "      <td>0</td>\n",
              "      <td>0</td>\n",
              "      <td>0</td>\n",
              "      <td>100</td>\n",
              "    </tr>\n",
              "    <tr>\n",
              "      <th>9981</th>\n",
              "      <td>9994</td>\n",
              "      <td>2.0</td>\n",
              "      <td>1</td>\n",
              "      <td>16.05.2020 18:12</td>\n",
              "      <td>1</td>\n",
              "      <td>2</td>\n",
              "      <td>1</td>\n",
              "      <td>0</td>\n",
              "      <td>39 976,05</td>\n",
              "      <td>39 976,05</td>\n",
              "      <td>0</td>\n",
              "      <td>14</td>\n",
              "      <td>33 165,62</td>\n",
              "      <td>2 368,97</td>\n",
              "      <td>31.05.2020 19:35</td>\n",
              "      <td>1</td>\n",
              "      <td>0</td>\n",
              "      <td>0</td>\n",
              "      <td>0</td>\n",
              "      <td>100</td>\n",
              "    </tr>\n",
              "    <tr>\n",
              "      <th>9982</th>\n",
              "      <td>9995</td>\n",
              "      <td>2.0</td>\n",
              "      <td>1</td>\n",
              "      <td>16.05.2020 21:47</td>\n",
              "      <td>1</td>\n",
              "      <td>2</td>\n",
              "      <td>1</td>\n",
              "      <td>0</td>\n",
              "      <td>3 586,48</td>\n",
              "      <td>3 586,48</td>\n",
              "      <td>0</td>\n",
              "      <td>5</td>\n",
              "      <td>3 600,93</td>\n",
              "      <td>720,19</td>\n",
              "      <td>25.05.2020 9:52</td>\n",
              "      <td>1</td>\n",
              "      <td>0</td>\n",
              "      <td>0</td>\n",
              "      <td>0</td>\n",
              "      <td>100</td>\n",
              "    </tr>\n",
              "    <tr>\n",
              "      <th>9983</th>\n",
              "      <td>9996</td>\n",
              "      <td>2.0</td>\n",
              "      <td>1</td>\n",
              "      <td>17.05.2020 11:39</td>\n",
              "      <td>1</td>\n",
              "      <td>2</td>\n",
              "      <td>1</td>\n",
              "      <td>0</td>\n",
              "      <td>1 862,31</td>\n",
              "      <td>1 862,31</td>\n",
              "      <td>0</td>\n",
              "      <td>1</td>\n",
              "      <td>1 862,31</td>\n",
              "      <td>1 862,31</td>\n",
              "      <td>17.05.2020 12:15</td>\n",
              "      <td>1</td>\n",
              "      <td>0</td>\n",
              "      <td>0</td>\n",
              "      <td>0</td>\n",
              "      <td>100</td>\n",
              "    </tr>\n",
              "  </tbody>\n",
              "</table>\n",
              "<p>9984 rows × 20 columns</p>\n",
              "</div>"
            ],
            "text/plain": [
              "      ContactId  GenderCode  ...  has_last_halfyear_transaction churn_prob\n",
              "0             1         NaN  ...                              0          0\n",
              "1             2         1.0  ...                              1          0\n",
              "2             4         NaN  ...                              1          0\n",
              "3             5         NaN  ...                              1          0\n",
              "4             6         NaN  ...                              1          0\n",
              "...         ...         ...  ...                            ...        ...\n",
              "9979       9992         NaN  ...                              0        100\n",
              "9980       9993         2.0  ...                              0        100\n",
              "9981       9994         2.0  ...                              0        100\n",
              "9982       9995         2.0  ...                              0        100\n",
              "9983       9996         2.0  ...                              0        100\n",
              "\n",
              "[9984 rows x 20 columns]"
            ]
          },
          "metadata": {
            "tags": []
          },
          "execution_count": 4
        }
      ]
    },
    {
      "cell_type": "code",
      "metadata": {
        "id": "28Fhnt7cowYG"
      },
      "source": [
        "data_train = data[['GenderCode','DoNotEMail','sendsms','has_last_week_transaction','has_last_month_transaction','has_last_halfyear_transaction', 'balance','credit','debet','quantity','summ','average_cheque']]"
      ],
      "execution_count": 21,
      "outputs": []
    },
    {
      "cell_type": "code",
      "metadata": {
        "id": "kl47erM7W8jp"
      },
      "source": [
        ""
      ],
      "execution_count": 21,
      "outputs": []
    },
    {
      "cell_type": "code",
      "metadata": {
        "colab": {
          "base_uri": "https://localhost:8080/"
        },
        "id": "R_KimGQ_pxV6",
        "outputId": "4a640179-b568-40b0-b323-439cdc40b8a2"
      },
      "source": [
        "data_train['balance'] = data_train['balance'].str.replace(',', '.').str.replace(' ','').astype(float).fillna(0)\n",
        "data_train['credit'] = data_train['credit'].str.replace(',', '.').str.replace(' ','').astype(float).fillna(0)\n",
        "data_train['debet'] = data_train['debet'].str.replace(',', '.').str.replace(' ','').astype(float).fillna(0)\n",
        "data_train['quantity'] = data_train['quantity'].fillna(0)\n",
        "data_train['summ'] = data_train['summ'].str.replace(',', '.').str.replace(' ','').astype(float).fillna(0)\n",
        "data_train['average_cheque'] = data_train['average_cheque'].str.replace(',', '.').str.replace(' ','').astype(float).fillna(0)\n",
        "\n",
        "data_train['GenderCode'] = data_train['GenderCode'].fillna(0)\n",
        "data_train['DoNotEMail'] = data_train['DoNotEMail'].fillna(1)\n",
        "data_train['sendsms'] = data_train['sendsms'].fillna(0)\n",
        "data_train['has_last_week_transaction'] = data_train['has_last_week_transaction'].astype(bool)\n",
        "data_train['has_last_month_transaction'] = data_train['has_last_month_transaction'].astype(bool)\n",
        "data_train['has_last_halfyear_transaction'] = data_train['has_last_halfyear_transaction'].astype(bool)"
      ],
      "execution_count": 22,
      "outputs": [
        {
          "output_type": "stream",
          "text": [
            "/usr/local/lib/python3.7/dist-packages/ipykernel_launcher.py:1: SettingWithCopyWarning: \n",
            "A value is trying to be set on a copy of a slice from a DataFrame.\n",
            "Try using .loc[row_indexer,col_indexer] = value instead\n",
            "\n",
            "See the caveats in the documentation: https://pandas.pydata.org/pandas-docs/stable/user_guide/indexing.html#returning-a-view-versus-a-copy\n",
            "  \"\"\"Entry point for launching an IPython kernel.\n",
            "/usr/local/lib/python3.7/dist-packages/ipykernel_launcher.py:2: SettingWithCopyWarning: \n",
            "A value is trying to be set on a copy of a slice from a DataFrame.\n",
            "Try using .loc[row_indexer,col_indexer] = value instead\n",
            "\n",
            "See the caveats in the documentation: https://pandas.pydata.org/pandas-docs/stable/user_guide/indexing.html#returning-a-view-versus-a-copy\n",
            "  \n",
            "/usr/local/lib/python3.7/dist-packages/ipykernel_launcher.py:3: SettingWithCopyWarning: \n",
            "A value is trying to be set on a copy of a slice from a DataFrame.\n",
            "Try using .loc[row_indexer,col_indexer] = value instead\n",
            "\n",
            "See the caveats in the documentation: https://pandas.pydata.org/pandas-docs/stable/user_guide/indexing.html#returning-a-view-versus-a-copy\n",
            "  This is separate from the ipykernel package so we can avoid doing imports until\n",
            "/usr/local/lib/python3.7/dist-packages/ipykernel_launcher.py:4: SettingWithCopyWarning: \n",
            "A value is trying to be set on a copy of a slice from a DataFrame.\n",
            "Try using .loc[row_indexer,col_indexer] = value instead\n",
            "\n",
            "See the caveats in the documentation: https://pandas.pydata.org/pandas-docs/stable/user_guide/indexing.html#returning-a-view-versus-a-copy\n",
            "  after removing the cwd from sys.path.\n",
            "/usr/local/lib/python3.7/dist-packages/ipykernel_launcher.py:5: SettingWithCopyWarning: \n",
            "A value is trying to be set on a copy of a slice from a DataFrame.\n",
            "Try using .loc[row_indexer,col_indexer] = value instead\n",
            "\n",
            "See the caveats in the documentation: https://pandas.pydata.org/pandas-docs/stable/user_guide/indexing.html#returning-a-view-versus-a-copy\n",
            "  \"\"\"\n",
            "/usr/local/lib/python3.7/dist-packages/ipykernel_launcher.py:6: SettingWithCopyWarning: \n",
            "A value is trying to be set on a copy of a slice from a DataFrame.\n",
            "Try using .loc[row_indexer,col_indexer] = value instead\n",
            "\n",
            "See the caveats in the documentation: https://pandas.pydata.org/pandas-docs/stable/user_guide/indexing.html#returning-a-view-versus-a-copy\n",
            "  \n",
            "/usr/local/lib/python3.7/dist-packages/ipykernel_launcher.py:8: SettingWithCopyWarning: \n",
            "A value is trying to be set on a copy of a slice from a DataFrame.\n",
            "Try using .loc[row_indexer,col_indexer] = value instead\n",
            "\n",
            "See the caveats in the documentation: https://pandas.pydata.org/pandas-docs/stable/user_guide/indexing.html#returning-a-view-versus-a-copy\n",
            "  \n",
            "/usr/local/lib/python3.7/dist-packages/ipykernel_launcher.py:9: SettingWithCopyWarning: \n",
            "A value is trying to be set on a copy of a slice from a DataFrame.\n",
            "Try using .loc[row_indexer,col_indexer] = value instead\n",
            "\n",
            "See the caveats in the documentation: https://pandas.pydata.org/pandas-docs/stable/user_guide/indexing.html#returning-a-view-versus-a-copy\n",
            "  if __name__ == '__main__':\n",
            "/usr/local/lib/python3.7/dist-packages/ipykernel_launcher.py:10: SettingWithCopyWarning: \n",
            "A value is trying to be set on a copy of a slice from a DataFrame.\n",
            "Try using .loc[row_indexer,col_indexer] = value instead\n",
            "\n",
            "See the caveats in the documentation: https://pandas.pydata.org/pandas-docs/stable/user_guide/indexing.html#returning-a-view-versus-a-copy\n",
            "  # Remove the CWD from sys.path while we load stuff.\n",
            "/usr/local/lib/python3.7/dist-packages/ipykernel_launcher.py:11: SettingWithCopyWarning: \n",
            "A value is trying to be set on a copy of a slice from a DataFrame.\n",
            "Try using .loc[row_indexer,col_indexer] = value instead\n",
            "\n",
            "See the caveats in the documentation: https://pandas.pydata.org/pandas-docs/stable/user_guide/indexing.html#returning-a-view-versus-a-copy\n",
            "  # This is added back by InteractiveShellApp.init_path()\n",
            "/usr/local/lib/python3.7/dist-packages/ipykernel_launcher.py:12: SettingWithCopyWarning: \n",
            "A value is trying to be set on a copy of a slice from a DataFrame.\n",
            "Try using .loc[row_indexer,col_indexer] = value instead\n",
            "\n",
            "See the caveats in the documentation: https://pandas.pydata.org/pandas-docs/stable/user_guide/indexing.html#returning-a-view-versus-a-copy\n",
            "  if sys.path[0] == '':\n",
            "/usr/local/lib/python3.7/dist-packages/ipykernel_launcher.py:13: SettingWithCopyWarning: \n",
            "A value is trying to be set on a copy of a slice from a DataFrame.\n",
            "Try using .loc[row_indexer,col_indexer] = value instead\n",
            "\n",
            "See the caveats in the documentation: https://pandas.pydata.org/pandas-docs/stable/user_guide/indexing.html#returning-a-view-versus-a-copy\n",
            "  del sys.path[0]\n"
          ],
          "name": "stderr"
        }
      ]
    },
    {
      "cell_type": "code",
      "metadata": {
        "colab": {
          "base_uri": "https://localhost:8080/",
          "height": 444
        },
        "id": "K6Fs_R2VeUks",
        "outputId": "04e3609b-f624-44e0-846f-ee4d4edceb5a"
      },
      "source": [
        "#data_train.dropna(inplace=True)\n",
        "data_train"
      ],
      "execution_count": 23,
      "outputs": [
        {
          "output_type": "execute_result",
          "data": {
            "text/html": [
              "<div>\n",
              "<style scoped>\n",
              "    .dataframe tbody tr th:only-of-type {\n",
              "        vertical-align: middle;\n",
              "    }\n",
              "\n",
              "    .dataframe tbody tr th {\n",
              "        vertical-align: top;\n",
              "    }\n",
              "\n",
              "    .dataframe thead th {\n",
              "        text-align: right;\n",
              "    }\n",
              "</style>\n",
              "<table border=\"1\" class=\"dataframe\">\n",
              "  <thead>\n",
              "    <tr style=\"text-align: right;\">\n",
              "      <th></th>\n",
              "      <th>GenderCode</th>\n",
              "      <th>DoNotEMail</th>\n",
              "      <th>sendsms</th>\n",
              "      <th>has_last_week_transaction</th>\n",
              "      <th>has_last_month_transaction</th>\n",
              "      <th>has_last_halfyear_transaction</th>\n",
              "      <th>balance</th>\n",
              "      <th>credit</th>\n",
              "      <th>debet</th>\n",
              "      <th>quantity</th>\n",
              "      <th>summ</th>\n",
              "      <th>average_cheque</th>\n",
              "    </tr>\n",
              "  </thead>\n",
              "  <tbody>\n",
              "    <tr>\n",
              "      <th>0</th>\n",
              "      <td>0.0</td>\n",
              "      <td>0</td>\n",
              "      <td>1</td>\n",
              "      <td>False</td>\n",
              "      <td>False</td>\n",
              "      <td>False</td>\n",
              "      <td>0.00</td>\n",
              "      <td>94002.31</td>\n",
              "      <td>94002.31</td>\n",
              "      <td>3</td>\n",
              "      <td>58444.33</td>\n",
              "      <td>19481.44</td>\n",
              "    </tr>\n",
              "    <tr>\n",
              "      <th>1</th>\n",
              "      <td>1.0</td>\n",
              "      <td>0</td>\n",
              "      <td>1</td>\n",
              "      <td>True</td>\n",
              "      <td>True</td>\n",
              "      <td>True</td>\n",
              "      <td>52878.84</td>\n",
              "      <td>204580.25</td>\n",
              "      <td>257459.09</td>\n",
              "      <td>106</td>\n",
              "      <td>382508.26</td>\n",
              "      <td>3608.57</td>\n",
              "    </tr>\n",
              "    <tr>\n",
              "      <th>2</th>\n",
              "      <td>0.0</td>\n",
              "      <td>1</td>\n",
              "      <td>1</td>\n",
              "      <td>True</td>\n",
              "      <td>True</td>\n",
              "      <td>True</td>\n",
              "      <td>1461.19</td>\n",
              "      <td>485648.00</td>\n",
              "      <td>487109.19</td>\n",
              "      <td>176</td>\n",
              "      <td>224307.11</td>\n",
              "      <td>1274.47</td>\n",
              "    </tr>\n",
              "    <tr>\n",
              "      <th>3</th>\n",
              "      <td>0.0</td>\n",
              "      <td>1</td>\n",
              "      <td>1</td>\n",
              "      <td>False</td>\n",
              "      <td>False</td>\n",
              "      <td>True</td>\n",
              "      <td>2901.98</td>\n",
              "      <td>8016.86</td>\n",
              "      <td>10918.84</td>\n",
              "      <td>10</td>\n",
              "      <td>10966.77</td>\n",
              "      <td>1096.68</td>\n",
              "    </tr>\n",
              "    <tr>\n",
              "      <th>4</th>\n",
              "      <td>0.0</td>\n",
              "      <td>1</td>\n",
              "      <td>1</td>\n",
              "      <td>True</td>\n",
              "      <td>True</td>\n",
              "      <td>True</td>\n",
              "      <td>2890.10</td>\n",
              "      <td>146488.00</td>\n",
              "      <td>149378.10</td>\n",
              "      <td>56</td>\n",
              "      <td>70281.37</td>\n",
              "      <td>1255.02</td>\n",
              "    </tr>\n",
              "    <tr>\n",
              "      <th>...</th>\n",
              "      <td>...</td>\n",
              "      <td>...</td>\n",
              "      <td>...</td>\n",
              "      <td>...</td>\n",
              "      <td>...</td>\n",
              "      <td>...</td>\n",
              "      <td>...</td>\n",
              "      <td>...</td>\n",
              "      <td>...</td>\n",
              "      <td>...</td>\n",
              "      <td>...</td>\n",
              "      <td>...</td>\n",
              "    </tr>\n",
              "    <tr>\n",
              "      <th>9979</th>\n",
              "      <td>0.0</td>\n",
              "      <td>1</td>\n",
              "      <td>1</td>\n",
              "      <td>False</td>\n",
              "      <td>False</td>\n",
              "      <td>False</td>\n",
              "      <td>0.00</td>\n",
              "      <td>12977.18</td>\n",
              "      <td>12977.18</td>\n",
              "      <td>1</td>\n",
              "      <td>7977.18</td>\n",
              "      <td>7977.18</td>\n",
              "    </tr>\n",
              "    <tr>\n",
              "      <th>9980</th>\n",
              "      <td>2.0</td>\n",
              "      <td>1</td>\n",
              "      <td>1</td>\n",
              "      <td>False</td>\n",
              "      <td>False</td>\n",
              "      <td>False</td>\n",
              "      <td>0.00</td>\n",
              "      <td>2468.23</td>\n",
              "      <td>2468.23</td>\n",
              "      <td>1</td>\n",
              "      <td>2468.23</td>\n",
              "      <td>2468.23</td>\n",
              "    </tr>\n",
              "    <tr>\n",
              "      <th>9981</th>\n",
              "      <td>2.0</td>\n",
              "      <td>1</td>\n",
              "      <td>1</td>\n",
              "      <td>False</td>\n",
              "      <td>False</td>\n",
              "      <td>False</td>\n",
              "      <td>0.00</td>\n",
              "      <td>39976.05</td>\n",
              "      <td>39976.05</td>\n",
              "      <td>14</td>\n",
              "      <td>33165.62</td>\n",
              "      <td>2368.97</td>\n",
              "    </tr>\n",
              "    <tr>\n",
              "      <th>9982</th>\n",
              "      <td>2.0</td>\n",
              "      <td>1</td>\n",
              "      <td>1</td>\n",
              "      <td>False</td>\n",
              "      <td>False</td>\n",
              "      <td>False</td>\n",
              "      <td>0.00</td>\n",
              "      <td>3586.48</td>\n",
              "      <td>3586.48</td>\n",
              "      <td>5</td>\n",
              "      <td>3600.93</td>\n",
              "      <td>720.19</td>\n",
              "    </tr>\n",
              "    <tr>\n",
              "      <th>9983</th>\n",
              "      <td>2.0</td>\n",
              "      <td>1</td>\n",
              "      <td>1</td>\n",
              "      <td>False</td>\n",
              "      <td>False</td>\n",
              "      <td>False</td>\n",
              "      <td>0.00</td>\n",
              "      <td>1862.31</td>\n",
              "      <td>1862.31</td>\n",
              "      <td>1</td>\n",
              "      <td>1862.31</td>\n",
              "      <td>1862.31</td>\n",
              "    </tr>\n",
              "  </tbody>\n",
              "</table>\n",
              "<p>9984 rows × 12 columns</p>\n",
              "</div>"
            ],
            "text/plain": [
              "      GenderCode  DoNotEMail  sendsms  ...  quantity       summ  average_cheque\n",
              "0            0.0           0        1  ...         3   58444.33        19481.44\n",
              "1            1.0           0        1  ...       106  382508.26         3608.57\n",
              "2            0.0           1        1  ...       176  224307.11         1274.47\n",
              "3            0.0           1        1  ...        10   10966.77         1096.68\n",
              "4            0.0           1        1  ...        56   70281.37         1255.02\n",
              "...          ...         ...      ...  ...       ...        ...             ...\n",
              "9979         0.0           1        1  ...         1    7977.18         7977.18\n",
              "9980         2.0           1        1  ...         1    2468.23         2468.23\n",
              "9981         2.0           1        1  ...        14   33165.62         2368.97\n",
              "9982         2.0           1        1  ...         5    3600.93          720.19\n",
              "9983         2.0           1        1  ...         1    1862.31         1862.31\n",
              "\n",
              "[9984 rows x 12 columns]"
            ]
          },
          "metadata": {
            "tags": []
          },
          "execution_count": 23
        }
      ]
    },
    {
      "cell_type": "code",
      "metadata": {
        "id": "VPLZcdrDp-GF"
      },
      "source": [
        "churn = data['churn_bool']"
      ],
      "execution_count": 24,
      "outputs": []
    },
    {
      "cell_type": "code",
      "metadata": {
        "id": "R3Sugna0TInl"
      },
      "source": [
        "X_train, X_test, y_train, y_test = train_test_split(data_train, churn, test_size=0.2, random_state=42)"
      ],
      "execution_count": 25,
      "outputs": []
    },
    {
      "cell_type": "code",
      "metadata": {
        "colab": {
          "base_uri": "https://localhost:8080/"
        },
        "id": "GmuTrsnXTNy4",
        "outputId": "fcb56779-acd7-476d-ef3c-0e007c0e45d9"
      },
      "source": [
        "clf = LogisticRegression(random_state=0).fit(X_train, y_train)\n",
        "clf.predict(X_test)"
      ],
      "execution_count": 26,
      "outputs": [
        {
          "output_type": "execute_result",
          "data": {
            "text/plain": [
              "array([0, 0, 0, ..., 0, 0, 0])"
            ]
          },
          "metadata": {
            "tags": []
          },
          "execution_count": 26
        }
      ]
    },
    {
      "cell_type": "code",
      "metadata": {
        "colab": {
          "base_uri": "https://localhost:8080/"
        },
        "id": "M9USHP8CTV_g",
        "outputId": "866de634-05e7-48ce-db40-69d427f36feb"
      },
      "source": [
        "clf.score(X_test, y_test)"
      ],
      "execution_count": 27,
      "outputs": [
        {
          "output_type": "execute_result",
          "data": {
            "text/plain": [
              "0.9384076114171257"
            ]
          },
          "metadata": {
            "tags": []
          },
          "execution_count": 27
        }
      ]
    },
    {
      "cell_type": "code",
      "metadata": {
        "id": "cngOtMyZm3wv"
      },
      "source": [
        "a = np.array(X_test.iloc[4]).reshape(1,-1)"
      ],
      "execution_count": 54,
      "outputs": []
    },
    {
      "cell_type": "code",
      "metadata": {
        "colab": {
          "base_uri": "https://localhost:8080/"
        },
        "id": "AbOZsPv4X0dB",
        "outputId": "68ca99f5-efb2-486a-d36c-9c76315a8a4a"
      },
      "source": [
        "clf.predict(a)"
      ],
      "execution_count": 55,
      "outputs": [
        {
          "output_type": "execute_result",
          "data": {
            "text/plain": [
              "array([0])"
            ]
          },
          "metadata": {
            "tags": []
          },
          "execution_count": 55
        }
      ]
    },
    {
      "cell_type": "code",
      "metadata": {
        "colab": {
          "base_uri": "https://localhost:8080/"
        },
        "id": "qyCNFgFoZRl4",
        "outputId": "2aac589f-d8e9-49d3-985d-255a06957723"
      },
      "source": [
        "X_test.iloc[3]"
      ],
      "execution_count": 57,
      "outputs": [
        {
          "output_type": "execute_result",
          "data": {
            "text/plain": [
              "GenderCode                             0\n",
              "DoNotEMail                             1\n",
              "sendsms                                1\n",
              "has_last_week_transaction          False\n",
              "has_last_month_transaction         False\n",
              "has_last_halfyear_transaction      False\n",
              "balance                                0\n",
              "credit                           28776.9\n",
              "debet                            28776.9\n",
              "quantity                               3\n",
              "summ                             4603.32\n",
              "average_cheque                   1534.44\n",
              "Name: 9202, dtype: object"
            ]
          },
          "metadata": {
            "tags": []
          },
          "execution_count": 57
        }
      ]
    },
    {
      "cell_type": "code",
      "metadata": {
        "id": "oNAPzmFOfgk6"
      },
      "source": [
        ""
      ],
      "execution_count": null,
      "outputs": []
    }
  ]
}